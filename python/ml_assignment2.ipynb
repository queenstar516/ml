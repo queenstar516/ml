{
 "cells": [
  {
   "cell_type": "code",
   "execution_count": 2,
   "metadata": {},
   "outputs": [
    {
     "name": "stdout",
     "output_type": "stream",
     "text": [
      "[[[[[ 1  2]\n",
      "    [ 3  4]]\n",
      "\n",
      "   [[ 5  6]\n",
      "    [ 7  8]]]\n",
      "\n",
      "\n",
      "  [[[ 9 10]\n",
      "    [11 12]]\n",
      "\n",
      "   [[13 14]\n",
      "    [15 16]]]]\n",
      "\n",
      "\n",
      "\n",
      " [[[[17 18]\n",
      "    [19 20]]\n",
      "\n",
      "   [[21 22]\n",
      "    [23 24]]]\n",
      "\n",
      "\n",
      "  [[[25 26]\n",
      "    [27 28]]\n",
      "\n",
      "   [[29 30]\n",
      "    [31 32]]]]]\n"
     ]
    }
   ],
   "source": [
    "import numpy as np\n",
    "\n",
    "# Manually creating a small 5-dimensional array\n",
    "array_5d = np.array([\n",
    "    [\n",
    "        [\n",
    "            [\n",
    "                [1, 2], [3, 4]\n",
    "            ],\n",
    "            [\n",
    "                [5, 6], [7, 8]\n",
    "            ]\n",
    "        ],\n",
    "        [\n",
    "            [\n",
    "                [9, 10], [11, 12]\n",
    "            ],\n",
    "            [\n",
    "                [13, 14], [15, 16]\n",
    "            ]\n",
    "        ]\n",
    "    ],\n",
    "    [\n",
    "        [\n",
    "            [\n",
    "                [17, 18], [19, 20]\n",
    "            ],\n",
    "            [\n",
    "                [21, 22], [23, 24]\n",
    "            ]\n",
    "        ],\n",
    "        [\n",
    "            [\n",
    "                [25, 26], [27, 28]\n",
    "            ],\n",
    "            [\n",
    "                [29, 30], [31, 32]\n",
    "            ]\n",
    "        ]\n",
    "    ]\n",
    "])\n",
    "\n",
    "print(array_5d)\n",
    "\n"
   ]
  }
 ],
 "metadata": {
  "kernelspec": {
   "display_name": "venv",
   "language": "python",
   "name": "python3"
  },
  "language_info": {
   "codemirror_mode": {
    "name": "ipython",
    "version": 3
   },
   "file_extension": ".py",
   "mimetype": "text/x-python",
   "name": "python",
   "nbconvert_exporter": "python",
   "pygments_lexer": "ipython3",
   "version": "3.12.4"
  }
 },
 "nbformat": 4,
 "nbformat_minor": 2
}
